{
 "cells": [
  {
   "cell_type": "code",
   "execution_count": 148,
   "metadata": {},
   "outputs": [
    {
     "data": {
      "text/plain": [
       "(array([0.97559321, 0.14432547, 0.18118703, 0.72267085, 0.62677891,\n",
       "        0.0745491 , 0.06451696, 0.09157585, 0.90834193, 0.76860213]),\n",
       " [[1], [1], [1], [1], [1], [1], [1], [1], [1], [1]])"
      ]
     },
     "execution_count": 148,
     "metadata": {},
     "output_type": "execute_result"
    }
   ],
   "source": [
    "import numpy as np\n",
    "import random\n",
    "probs = np.random.uniform(size = 10)\n",
    "rewards = [[1] for _ in range(10)]\n",
    "probs, rewards"
   ]
  },
  {
   "cell_type": "markdown",
   "metadata": {},
   "source": [
    "##贪婪算法"
   ]
  },
  {
   "cell_type": "code",
   "execution_count": 149,
   "metadata": {},
   "outputs": [
    {
     "data": {
      "text/plain": [
       "[[1], [1], [1, 0], [1], [1], [1], [1], [1], [1], [1]]"
      ]
     },
     "execution_count": 149,
     "metadata": {},
     "output_type": "execute_result"
    }
   ],
   "source": [
    "# def choose_one():\n",
    "#     if random.random() < 0.01:\n",
    "#         return random.randint(0, 9)\n",
    "\n",
    "#     rewards_mean = [np.mean(i) for i in rewards]\n",
    "#     return np.argmax(rewards_mean)\n",
    "\n",
    "# def choose_one():\n",
    "#     played_count = [len(i) for i in rewards]\n",
    "#     played_count = np.array(played_count)\n",
    "\n",
    "#     a = played_count.sum() ** 0.5\n",
    "#     b= played_count.sum() * 2\n",
    "#     ucb = a / b \n",
    "\n",
    "#     ucb = ucb ** 0.5\n",
    "#     rewards_mean = [np.mean(i) for i in rewards]\n",
    "#     rewards_mean = np.array(rewards_mean)\n",
    "\n",
    "#     ucb += rewards_mean\n",
    "#     return ucb.argmax()\n",
    "\n",
    "def choose_one():\n",
    "    count_1 = [sum(i) + 1 for i in rewards]\n",
    "    count_0 = [sum(1-np.array(i)) + 1 for i in rewards]\n",
    "    beta = np.random.beta(count_1,count_0)\n",
    "    return beta.argmax() \n",
    "\n",
    "def try_and_play():\n",
    "    i = choose_one()\n",
    "    reward = 0;\n",
    "    if random.random() < probs[i]:\n",
    "        reward = 1;\n",
    "    rewards[i].append(reward)\n",
    "try_and_play()\n",
    "rewards\n"
   ]
  },
  {
   "cell_type": "code",
   "execution_count": 150,
   "metadata": {},
   "outputs": [
    {
     "data": {
      "text/plain": [
       "(np.float64(4877.966062467134), 4857, np.float64(0.9957018843102549))"
      ]
     },
     "execution_count": 150,
     "metadata": {},
     "output_type": "execute_result"
    }
   ],
   "source": [
    "def get_result():\n",
    "    for _ in range(5000):\n",
    "        try_and_play()\n",
    "    \n",
    "    target = probs.max() * 5000\n",
    "    result = 0\n",
    "    result = sum([sum(i) for i in rewards])\n",
    "    return target,result-10,(result-10) / target\n",
    "get_result()"
   ]
  },
  {
   "cell_type": "markdown",
   "metadata": {},
   "source": [
    "#汤普森采样法"
   ]
  },
  {
   "cell_type": "code",
   "execution_count": 96,
   "metadata": {},
   "outputs": [],
   "source": []
  },
  {
   "cell_type": "code",
   "execution_count": null,
   "metadata": {},
   "outputs": [],
   "source": []
  },
  {
   "cell_type": "code",
   "execution_count": 151,
   "metadata": {},
   "outputs": [
    {
     "name": "stdout",
     "output_type": "stream",
     "text": [
      "0.060041374757979805\n",
      "0.09471897251005475\n",
      "0.6660220896611687\n",
      "0.1109874259474217\n",
      "0.7123615801131458\n",
      "0.40545858643845173\n",
      "0.42157827190605784\n",
      "0.3828598738466724\n",
      "0.0912789972910896\n",
      "0.05298269592033443\n"
     ]
    }
   ],
   "source": [
    "for _ in range(10):\n",
    "    print(np.random.beta(1,2))"
   ]
  },
  {
   "cell_type": "code",
   "execution_count": null,
   "metadata": {},
   "outputs": [],
   "source": []
  }
 ],
 "metadata": {
  "kernelspec": {
   "display_name": "pytorch",
   "language": "python",
   "name": "python3"
  },
  "language_info": {
   "codemirror_mode": {
    "name": "ipython",
    "version": 3
   },
   "file_extension": ".py",
   "mimetype": "text/x-python",
   "name": "python",
   "nbconvert_exporter": "python",
   "pygments_lexer": "ipython3",
   "version": "3.9.19"
  }
 },
 "nbformat": 4,
 "nbformat_minor": 2
}
