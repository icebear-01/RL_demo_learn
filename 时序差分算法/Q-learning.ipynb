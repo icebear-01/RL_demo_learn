{
 "cells": [
  {
   "cell_type": "markdown",
   "metadata": {},
   "source": [
    "## 价值迭代\n"
   ]
  },
  {
   "cell_type": "markdown",
   "metadata": {},
   "source": [
    "#### 1、创建环境"
   ]
  },
  {
   "cell_type": "code",
   "execution_count": 2,
   "metadata": {},
   "outputs": [
    {
     "data": {
      "text/plain": [
       "'ground'"
      ]
     },
     "execution_count": 2,
     "metadata": {},
     "output_type": "execute_result"
    }
   ],
   "source": [
    "import numpy as np\n",
    "import random\n",
    "def get_state(row, col):\n",
    "    if row != 3:\n",
    "        return 'ground'\n",
    "    if row == 3 and col == 0:\n",
    "        return 'ground'\n",
    "    if row == 3 and col == 11:\n",
    "        return 'terminal'\n",
    "    \n",
    "    return 'trap'\n",
    "\n",
    "get_state(0, 0)\n",
    "    "
   ]
  },
  {
   "cell_type": "markdown",
   "metadata": {},
   "source": [
    "#### 2、动作空间"
   ]
  },
  {
   "cell_type": "code",
   "execution_count": 3,
   "metadata": {},
   "outputs": [],
   "source": [
    "def move(row, col ,action):\n",
    "    if get_state(row, col) in ['trap', 'terminal']:\n",
    "        return row, col, 0\n",
    "    \n",
    "    if action == 0:\n",
    "        row -= 1\n",
    "\n",
    "    if action == 1:\n",
    "        row += 1 \n",
    "\n",
    "    if action == 2:\n",
    "        col -= 1 \n",
    "\n",
    "    if action == 3:\n",
    "        col += 1\n",
    "\n",
    "    row = max(0, row) \n",
    "    row = min(3, row) \n",
    "    col = max(0, col) \n",
    "    col = min(11, col) \n",
    "    reward = -1;\n",
    "    if get_state(row, col) == 'trap':\n",
    "        reward = -100\n",
    "    if get_state(row, col) == 'terminal':\n",
    "        reward = 0\n",
    "    return row, col, reward"
   ]
  },
  {
   "cell_type": "markdown",
   "metadata": {},
   "source": [
    "#### 3、Q函数\n"
   ]
  },
  {
   "cell_type": "code",
   "execution_count": 4,
   "metadata": {},
   "outputs": [
    {
     "data": {
      "text/plain": [
       "-0.1"
      ]
     },
     "execution_count": 4,
     "metadata": {},
     "output_type": "execute_result"
    }
   ],
   "source": [
    "Q = np.zeros([4, 12 ,4])\n",
    "\n",
    "def get_action(row, col):\n",
    "    if random.random() < 0.1:\n",
    "        return random.choice(range(4))\n",
    "    \n",
    "    return Q[row, col].argmax()\n",
    "\n",
    "def get_update(row, col, action, reward, next_row, next_col,next_action):\n",
    "    target = 0.9 *Q[next_row, next_col].max()\n",
    "    target += reward\n",
    "\n",
    "    value = Q[row, col, action]\n",
    "\n",
    "    update = target - value  ##TD error\n",
    "\n",
    "    update *= 0.1       ##learnning rate\n",
    "    return update\n",
    "\n",
    "get_update(0, 0 ,3, -1, 0, 1, 3)"
   ]
  },
  {
   "cell_type": "markdown",
   "metadata": {},
   "source": [
    "#### 4、训练"
   ]
  },
  {
   "cell_type": "code",
   "execution_count": 5,
   "metadata": {},
   "outputs": [
    {
     "name": "stdout",
     "output_type": "stream",
     "text": [
      "0 -129\n",
      "150 -34\n",
      "300 -103\n",
      "450 -15\n",
      "600 -12\n",
      "750 -14\n",
      "900 -110\n",
      "1050 -11\n",
      "1200 -12\n",
      "1350 -13\n"
     ]
    }
   ],
   "source": [
    "def train():\n",
    "    for epoch in range(1500):\n",
    "        row = random.choice(range(4))\n",
    "        col = 0\n",
    "\n",
    "        action =get_action(row, col)\n",
    "\n",
    "        reward_sum = 0\n",
    "\n",
    "        while get_state(row, col) not in ['terminal', 'trap']:\n",
    "            next_row, next_col, reward = move(row, col , action)\n",
    "            reward_sum += reward\n",
    "\n",
    "            next_action = get_action(next_row, next_col)\n",
    "            update = get_update(row, col, action, reward, next_row, next_col, next_action)\n",
    "            Q[row, col,action] += update\n",
    "\n",
    "            row = next_row\n",
    "            col = next_col \n",
    "            action = next_action\n",
    "\n",
    "        if epoch % 150 == 0:\n",
    "            print(epoch, reward_sum)\n",
    "\n",
    "train()\n"
   ]
  },
  {
   "cell_type": "markdown",
   "metadata": {},
   "source": [
    "##### 5、结果显示"
   ]
  },
  {
   "cell_type": "code",
   "execution_count": 6,
   "metadata": {},
   "outputs": [
    {
     "name": "stdout",
     "output_type": "stream",
     "text": [
      "□□□□□□□□□□□□\n",
      "□↑□□□□□□□□□□\n",
      "□□□□□□□□□□□□\n",
      "□○○○○○○○○○○❤\n"
     ]
    }
   ],
   "source": [
    "#打印游戏，方便测试\n",
    "def show(row, col, action):\n",
    "    graph = [\n",
    "        '□', '□', '□', '□', '□', '□', '□', '□', '□', '□', '□', '□', '□', '□',\n",
    "        '□', '□', '□', '□', '□', '□', '□', '□', '□', '□', '□', '□', '□', '□',\n",
    "        '□', '□', '□', '□', '□', '□', '□', '□', '□', '○', '○', '○', '○', '○',\n",
    "        '○', '○', '○', '○', '○', '❤'\n",
    "    ]\n",
    "\n",
    "    action = {0: '↑', 1: '↓', 2: '←', 3: '→'}[action]\n",
    "\n",
    "    graph[row * 12 + col] = action\n",
    "\n",
    "    graph = ''.join(graph)\n",
    "\n",
    "    for i in range(0, 4 * 12, 12):\n",
    "        print(graph[i:i + 12])\n",
    "\n",
    "\n",
    "show(1, 1, 0)"
   ]
  },
  {
   "cell_type": "code",
   "execution_count": 7,
   "metadata": {},
   "outputs": [
    {
     "name": "stdout",
     "output_type": "stream",
     "text": [
      "□□□□□□□□□□□□\n",
      "□□□□□□□□□□□□\n",
      "□□□□□□□□□□□↓\n",
      "□○○○○○○○○○○❤\n"
     ]
    }
   ],
   "source": [
    "\n",
    "from IPython import display\n",
    "import time\n",
    "def show(row, col, action):\n",
    "    graph = [\n",
    "        '□', '□', '□', '□', '□', '□', '□', '□', '□', '□', '□', '□', '□', '□',\n",
    "        '□', '□', '□', '□', '□', '□', '□', '□', '□', '□', '□', '□', '□', '□',\n",
    "        '□', '□', '□', '□', '□', '□', '□', '□', '□', '○', '○', '○', '○', '○',\n",
    "        '○', '○', '○', '○', '○', '❤'\n",
    "    ]\n",
    "\n",
    "    action = {0: '↑', 1: '↓', 2: '←', 3: '→'}[action]\n",
    "\n",
    "    graph[row * 12 + col] = action\n",
    "\n",
    "    graph = ''.join(graph)\n",
    "\n",
    "    for i in range(0, 4 * 12, 12):\n",
    "        print(graph[i:i + 12])\n",
    "\n",
    "\n",
    "show(1, 1, 0)\n",
    "\n",
    "\n",
    "\n",
    "def test():\n",
    "    #起点\n",
    "    row = random.choice(range(4))\n",
    "    col = 0\n",
    "\n",
    "    #最多玩N步\n",
    "    for _ in range(200):\n",
    "\n",
    "        #获取当前状态，如果状态是终点或者掉陷阱则终止\n",
    "        if get_state(row, col) in ['trap', 'terminal']:\n",
    "            break\n",
    "\n",
    "        #选择最优动作\n",
    "        action = Q[row, col].argmax()\n",
    "\n",
    "        #打印这个动作\n",
    "        display.clear_output(wait=True)\n",
    "        time.sleep(0.1)\n",
    "        show(row, col, action)\n",
    "\n",
    "        #执行动作\n",
    "        row, col, reward = move(row, col, action)\n",
    "\n",
    "\n",
    "test()"
   ]
  },
  {
   "cell_type": "code",
   "execution_count": 8,
   "metadata": {},
   "outputs": [
    {
     "name": "stdout",
     "output_type": "stream",
     "text": [
      "→→→→→→→→→→↓↓\n",
      "→↓→→→→↓↓→↓→↓\n",
      "→→→→→→→→→→→↓\n",
      "↑↑↑↑↑↑↑↑↑↑↑↑\n"
     ]
    }
   ],
   "source": [
    "\n",
    "#打印所有格子的动作倾向,策略\n",
    "for row in range(4):\n",
    "    line = ''\n",
    "    for col in range(12):\n",
    "        action = Q[row, col].argmax()\n",
    "        action = {0: '↑', 1: '↓', 2: '←', 3: '→'}[action]\n",
    "        line += action\n",
    "    print(line)"
   ]
  },
  {
   "cell_type": "code",
   "execution_count": null,
   "metadata": {},
   "outputs": [],
   "source": []
  }
 ],
 "metadata": {
  "kernelspec": {
   "display_name": "pytorch",
   "language": "python",
   "name": "python3"
  },
  "language_info": {
   "codemirror_mode": {
    "name": "ipython",
    "version": 3
   },
   "file_extension": ".py",
   "mimetype": "text/x-python",
   "name": "python",
   "nbconvert_exporter": "python",
   "pygments_lexer": "ipython3",
   "version": "3.9.19"
  }
 },
 "nbformat": 4,
 "nbformat_minor": 2
}
