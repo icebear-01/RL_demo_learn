{
 "cells": [
  {
   "cell_type": "markdown",
   "metadata": {},
   "source": [
    "#### 月球登陆"
   ]
  },
  {
   "cell_type": "markdown",
   "metadata": {},
   "source": [
    "##### 环境创建"
   ]
  },
  {
   "cell_type": "code",
   "execution_count": 4,
   "metadata": {},
   "outputs": [
    {
     "data": {
      "image/png": "[encoded data removed]",
      "text/plain": [
       "<Figure size 640x480 with 1 Axes>"
      ]
     },
     "metadata": {},
     "output_type": "display_data"
    }
   ],
   "source": [
    "import gym\n",
    "from matplotlib import pyplot as plt\n",
    "from IPython import display\n",
    "import numpy as np\n",
    "\n",
    "# 创建一个包装器来处理类型问题\n",
    "class BoolCompatibilityWrapper(gym.Wrapper):\n",
    "    def step(self, action):\n",
    "        obs, reward, terminated, truncated, info = self.env.step(action)\n",
    "        # 确保terminated和truncated是bool类型\n",
    "        terminated = bool(terminated)\n",
    "        truncated = bool(truncated)\n",
    "        return obs, reward, terminated, truncated, info\n",
    "\n",
    "# 创建环境并应用包装器\n",
    "env = gym.make('LunarLander-v2', render_mode='rgb_array')\n",
    "env = BoolCompatibilityWrapper(env)  # 应用包装器\n",
    "\n",
    "# 初始化游戏\n",
    "state, info = env.reset()\n",
    "\n",
    "for i in range(300):\n",
    "    action = env.action_space.sample()\n",
    "    state, reward, terminated, truncated, info = env.step(action)\n",
    "    over = terminated or truncated\n",
    "\n",
    "    if i % 5 == 0:\n",
    "        display.clear_output(wait=True)\n",
    "        plt.imshow(env.render())\n",
    "        plt.axis('off')\n",
    "        plt.show()\n",
    "\n",
    "    if over:\n",
    "        state, info = env.reset()\n",
    "\n",
    "env.close()"
   ]
  },
  {
   "cell_type": "code",
   "execution_count": 8,
   "metadata": {},
   "outputs": [
    {
     "data": {
      "text/plain": [
       "(-inf, inf)"
      ]
     },
     "execution_count": 8,
     "metadata": {},
     "output_type": "execute_result"
    }
   ],
   "source": [
    "\n",
    "env.action_space\n",
    "env.observation_space.high, env.observation_space.low\n",
    "env.reward_range"
   ]
  },
  {
   "cell_type": "markdown",
   "metadata": {},
   "source": [
    "#### 手动测试环境"
   ]
  },
  {
   "cell_type": "code",
   "execution_count": null,
   "metadata": {},
   "outputs": [],
   "source": [
    "import gym\n",
    "import pygame\n",
    "from gym.utils.play import play\n",
    "\n",
    "#定义按键映射\n",
    "mapping = {(pygame.K_LEFT, ): 0, (pygame.K_RIGHT, ): 1}\n",
    "\n",
    "#直接玩游戏游戏,这要求有图形界面\n",
    "play(gym.make('CartPole-v0'), keys_to_action=mapping)"
   ]
  },
  {
   "cell_type": "code",
   "execution_count": null,
   "metadata": {},
   "outputs": [],
   "source": []
  },
  {
   "cell_type": "code",
   "execution_count": null,
   "metadata": {},
   "outputs": [],
   "source": []
  }
 ],
 "metadata": {
  "kernelspec": {
   "display_name": "pytorch",
   "language": "python",
   "name": "python3"
  },
  "language_info": {
   "codemirror_mode": {
    "name": "ipython",
    "version": 3
   },
   "file_extension": ".py",
   "mimetype": "text/x-python",
   "name": "python",
   "nbconvert_exporter": "python",
   "pygments_lexer": "ipython3",
   "version": "3.9.19"
  }
 },
 "nbformat": 4,
 "nbformat_minor": 2
}
