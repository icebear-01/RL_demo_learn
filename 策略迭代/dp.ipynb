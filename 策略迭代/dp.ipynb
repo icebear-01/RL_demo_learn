{
 "cells": [
  {
   "cell_type": "markdown",
   "metadata": {},
   "source": [
    "## 动态规划\n"
   ]
  },
  {
   "cell_type": "markdown",
   "metadata": {},
   "source": [
    "#### 1、创建环境"
   ]
  },
  {
   "cell_type": "code",
   "execution_count": 1,
   "metadata": {},
   "outputs": [
    {
     "data": {
      "text/plain": [
       "'ground'"
      ]
     },
     "execution_count": 1,
     "metadata": {},
     "output_type": "execute_result"
    }
   ],
   "source": [
    "def get_state(row, col):\n",
    "    if row != 3:\n",
    "        return 'ground'\n",
    "    if row == 3 and col == 0:\n",
    "        return 'ground'\n",
    "    if row == 3 and col == 11:\n",
    "        return 'terminal'\n",
    "    \n",
    "    return 'trap'\n",
    "\n",
    "get_state(0, 0)\n",
    "    "
   ]
  },
  {
   "cell_type": "markdown",
   "metadata": {},
   "source": [
    "#### 2、动作空间"
   ]
  },
  {
   "cell_type": "code",
   "execution_count": 2,
   "metadata": {},
   "outputs": [],
   "source": [
    "def move(row, col ,action):\n",
    "    if get_state(row, col) in ['trap', 'terminal']:\n",
    "        return row, col, 0\n",
    "    \n",
    "    if action == 0:\n",
    "        row -= 1\n",
    "\n",
    "    if action == 1:\n",
    "        row += 1 \n",
    "\n",
    "    if action == 2:\n",
    "        col -= 1 \n",
    "\n",
    "    if action == 3:\n",
    "        col += 1\n",
    "\n",
    "    row = max(0, row) \n",
    "    row = min(3, row) \n",
    "    col = max(0, col) \n",
    "    col = min(11, col) \n",
    "    reward = -1;\n",
    "    if get_state(row, col) == 'trap':\n",
    "        reward = -100\n",
    "    return row, col, reward"
   ]
  },
  {
   "cell_type": "markdown",
   "metadata": {},
   "source": [
    "#### 3、Q函数\n"
   ]
  },
  {
   "cell_type": "code",
   "execution_count": 3,
   "metadata": {},
   "outputs": [
    {
     "data": {
      "text/plain": [
       "array([[[0.25      , 0.25      , 0.25      , 0.25      ],\n",
       "        [0.25      , 0.25      , 0.25      , 0.25      ],\n",
       "        [0.25      , 0.25      , 0.25      , 0.25      ],\n",
       "        [0.25      , 0.25      , 0.25      , 0.25      ],\n",
       "        [0.25      , 0.25      , 0.25      , 0.25      ],\n",
       "        [0.25      , 0.25      , 0.25      , 0.25      ],\n",
       "        [0.25      , 0.25      , 0.25      , 0.25      ],\n",
       "        [0.25      , 0.25      , 0.25      , 0.25      ],\n",
       "        [0.25      , 0.25      , 0.25      , 0.25      ],\n",
       "        [0.25      , 0.25      , 0.25      , 0.25      ],\n",
       "        [0.25      , 0.25      , 0.25      , 0.25      ],\n",
       "        [0.25      , 0.25      , 0.25      , 0.25      ]],\n",
       "\n",
       "       [[0.25      , 0.25      , 0.25      , 0.25      ],\n",
       "        [0.25      , 0.25      , 0.25      , 0.25      ],\n",
       "        [0.25      , 0.25      , 0.25      , 0.25      ],\n",
       "        [0.25      , 0.25      , 0.25      , 0.25      ],\n",
       "        [0.25      , 0.25      , 0.25      , 0.25      ],\n",
       "        [0.25      , 0.25      , 0.25      , 0.25      ],\n",
       "        [0.25      , 0.25      , 0.25      , 0.25      ],\n",
       "        [0.25      , 0.25      , 0.25      , 0.25      ],\n",
       "        [0.25      , 0.25      , 0.25      , 0.25      ],\n",
       "        [0.25      , 0.25      , 0.25      , 0.25      ],\n",
       "        [0.25      , 0.25      , 0.25      , 0.25      ],\n",
       "        [0.25      , 0.25      , 0.25      , 0.25      ]],\n",
       "\n",
       "       [[0.25      , 0.25      , 0.25      , 0.25      ],\n",
       "        [0.33333333, 0.        , 0.33333333, 0.33333333],\n",
       "        [0.33333333, 0.        , 0.33333333, 0.33333333],\n",
       "        [0.33333333, 0.        , 0.33333333, 0.33333333],\n",
       "        [0.33333333, 0.        , 0.33333333, 0.33333333],\n",
       "        [0.33333333, 0.        , 0.33333333, 0.33333333],\n",
       "        [0.33333333, 0.        , 0.33333333, 0.33333333],\n",
       "        [0.33333333, 0.        , 0.33333333, 0.33333333],\n",
       "        [0.33333333, 0.        , 0.33333333, 0.33333333],\n",
       "        [0.33333333, 0.        , 0.33333333, 0.33333333],\n",
       "        [0.33333333, 0.        , 0.33333333, 0.33333333],\n",
       "        [0.25      , 0.25      , 0.25      , 0.25      ]],\n",
       "\n",
       "       [[0.33333333, 0.33333333, 0.33333333, 0.        ],\n",
       "        [0.25      , 0.25      , 0.25      , 0.25      ],\n",
       "        [0.25      , 0.25      , 0.25      , 0.25      ],\n",
       "        [0.25      , 0.25      , 0.25      , 0.25      ],\n",
       "        [0.25      , 0.25      , 0.25      , 0.25      ],\n",
       "        [0.25      , 0.25      , 0.25      , 0.25      ],\n",
       "        [0.25      , 0.25      , 0.25      , 0.25      ],\n",
       "        [0.25      , 0.25      , 0.25      , 0.25      ],\n",
       "        [0.25      , 0.25      , 0.25      , 0.25      ],\n",
       "        [0.25      , 0.25      , 0.25      , 0.25      ],\n",
       "        [0.25      , 0.25      , 0.25      , 0.25      ],\n",
       "        [0.25      , 0.25      , 0.25      , 0.25      ]]])"
      ]
     },
     "execution_count": 3,
     "metadata": {},
     "output_type": "execute_result"
    }
   ],
   "source": [
    "import numpy as np\n",
    "values = np.zeros([4, 12])\n",
    "pi = np.ones([4, 12, 4]) * 0.25\n",
    "\n",
    "\n",
    "def get_Qsa(row, col, action):\n",
    "    next_row, next_col, reward = move(row, col, action)\n",
    "\n",
    "    value = values[next_row, next_col] * 0.9\n",
    "\n",
    "    if get_state(next_row, next_col) in ['trap', 'terminal']:\n",
    "        value = 0\n",
    "\n",
    "    return value +reward\n",
    "\n",
    "\n",
    "##策略评估函数\n",
    "def get_values():\n",
    "    new_values = np.zeros([4, 12])\n",
    "    for row in range(4):\n",
    "        for col in range(12):\n",
    "            action_value = np.zeros(4)\n",
    "\n",
    "            for action in range(4):\n",
    "                action_value[action] = get_Qsa(row, col, action)\n",
    "\n",
    "            action_value *= pi[row, col]\n",
    "            new_values[row, col] = action_value.sum()\n",
    "    return new_values\n",
    "\n",
    "#策略提升函数\n",
    "def get_pi():\n",
    "    new_pi = np.zeros([4, 12 ,4])\n",
    "\n",
    "    for row in range(4):\n",
    "        for col in range(12):\n",
    "            action_value = np.zeros(4)\n",
    "\n",
    "            for action in range(4):\n",
    "                action_value[action] = get_Qsa(row, col, action)\n",
    "\n",
    "            count = (action_value == action_value.max()).sum()\n",
    "\n",
    "            for action in range(4):\n",
    "                if action_value[action] == action_value.max():\n",
    "                    new_pi[row, col, action] = 1 / count\n",
    "                else:\n",
    "                    new_pi[row, col, action] = 0\n",
    "    return new_pi\n",
    "# get_Qsa(0, 0, 0)\n",
    "# get_values()\n",
    "get_pi()"
   ]
  },
  {
   "cell_type": "markdown",
   "metadata": {},
   "source": [
    "#### 4、循环迭代策略评估和策略提升"
   ]
  },
  {
   "cell_type": "code",
   "execution_count": 4,
   "metadata": {},
   "outputs": [
    {
     "data": {
      "text/plain": [
       "(array([[-7.71232075, -7.45813417, -7.17570464, -6.86189404, -6.5132156 ,\n",
       "         -6.12579511, -5.6953279 , -5.217031  , -4.68559   , -4.0951    ,\n",
       "         -3.439     , -2.71      ],\n",
       "        [-7.45813417, -7.17570464, -6.86189404, -6.5132156 , -6.12579511,\n",
       "         -5.6953279 , -5.217031  , -4.68559   , -4.0951    , -3.439     ,\n",
       "         -2.71      , -1.9       ],\n",
       "        [-7.17570464, -6.86189404, -6.5132156 , -6.12579511, -5.6953279 ,\n",
       "         -5.217031  , -4.68559   , -4.0951    , -3.439     , -2.71      ,\n",
       "         -1.9       , -1.        ],\n",
       "        [-7.45813417,  0.        ,  0.        ,  0.        ,  0.        ,\n",
       "          0.        ,  0.        ,  0.        ,  0.        ,  0.        ,\n",
       "          0.        ,  0.        ]]),\n",
       " array([[[0.  , 0.5 , 0.  , 0.5 ],\n",
       "         [0.  , 0.5 , 0.  , 0.5 ],\n",
       "         [0.  , 0.5 , 0.  , 0.5 ],\n",
       "         [0.  , 0.5 , 0.  , 0.5 ],\n",
       "         [0.  , 0.5 , 0.  , 0.5 ],\n",
       "         [0.  , 0.5 , 0.  , 0.5 ],\n",
       "         [0.  , 0.5 , 0.  , 0.5 ],\n",
       "         [0.  , 0.5 , 0.  , 0.5 ],\n",
       "         [0.  , 0.5 , 0.  , 0.5 ],\n",
       "         [0.  , 0.5 , 0.  , 0.5 ],\n",
       "         [0.  , 0.5 , 0.  , 0.5 ],\n",
       "         [0.  , 1.  , 0.  , 0.  ]],\n",
       " \n",
       "        [[0.  , 0.5 , 0.  , 0.5 ],\n",
       "         [0.  , 0.5 , 0.  , 0.5 ],\n",
       "         [0.  , 0.5 , 0.  , 0.5 ],\n",
       "         [0.  , 0.5 , 0.  , 0.5 ],\n",
       "         [0.  , 0.5 , 0.  , 0.5 ],\n",
       "         [0.  , 0.5 , 0.  , 0.5 ],\n",
       "         [0.  , 0.5 , 0.  , 0.5 ],\n",
       "         [0.  , 0.5 , 0.  , 0.5 ],\n",
       "         [0.  , 0.5 , 0.  , 0.5 ],\n",
       "         [0.  , 0.5 , 0.  , 0.5 ],\n",
       "         [0.  , 0.5 , 0.  , 0.5 ],\n",
       "         [0.  , 1.  , 0.  , 0.  ]],\n",
       " \n",
       "        [[0.  , 0.  , 0.  , 1.  ],\n",
       "         [0.  , 0.  , 0.  , 1.  ],\n",
       "         [0.  , 0.  , 0.  , 1.  ],\n",
       "         [0.  , 0.  , 0.  , 1.  ],\n",
       "         [0.  , 0.  , 0.  , 1.  ],\n",
       "         [0.  , 0.  , 0.  , 1.  ],\n",
       "         [0.  , 0.  , 0.  , 1.  ],\n",
       "         [0.  , 0.  , 0.  , 1.  ],\n",
       "         [0.  , 0.  , 0.  , 1.  ],\n",
       "         [0.  , 0.  , 0.  , 1.  ],\n",
       "         [0.  , 0.  , 0.  , 1.  ],\n",
       "         [0.  , 1.  , 0.  , 0.  ]],\n",
       " \n",
       "        [[1.  , 0.  , 0.  , 0.  ],\n",
       "         [0.25, 0.25, 0.25, 0.25],\n",
       "         [0.25, 0.25, 0.25, 0.25],\n",
       "         [0.25, 0.25, 0.25, 0.25],\n",
       "         [0.25, 0.25, 0.25, 0.25],\n",
       "         [0.25, 0.25, 0.25, 0.25],\n",
       "         [0.25, 0.25, 0.25, 0.25],\n",
       "         [0.25, 0.25, 0.25, 0.25],\n",
       "         [0.25, 0.25, 0.25, 0.25],\n",
       "         [0.25, 0.25, 0.25, 0.25],\n",
       "         [0.25, 0.25, 0.25, 0.25],\n",
       "         [0.25, 0.25, 0.25, 0.25]]]))"
      ]
     },
     "execution_count": 4,
     "metadata": {},
     "output_type": "execute_result"
    }
   ],
   "source": [
    "for _ in range(10):\n",
    "    for _ in range(100):\n",
    "        values = get_values()\n",
    "    pi = get_pi()\n",
    "\n",
    "values, pi"
   ]
  },
  {
   "cell_type": "markdown",
   "metadata": {},
   "source": [
    "##### 5、结果显示"
   ]
  },
  {
   "cell_type": "code",
   "execution_count": 5,
   "metadata": {},
   "outputs": [
    {
     "name": "stdout",
     "output_type": "stream",
     "text": [
      "□□□□□□□□□□□□\n",
      "□□□□□□□□□□□□\n",
      "□□□□□□□□□□□↓\n",
      "□○○○○○○○○○○❤\n"
     ]
    }
   ],
   "source": [
    "#打印游戏，方便测试\n",
    "def show(row, col, action):\n",
    "    graph = [\n",
    "        '□', '□', '□', '□', '□', '□', '□', '□', '□', '□', '□', '□', '□', '□',\n",
    "        '□', '□', '□', '□', '□', '□', '□', '□', '□', '□', '□', '□', '□', '□',\n",
    "        '□', '□', '□', '□', '□', '□', '□', '□', '□', '○', '○', '○', '○', '○',\n",
    "        '○', '○', '○', '○', '○', '❤'\n",
    "    ]\n",
    "\n",
    "    action = {0: '↑', 1: '↓', 2: '←', 3: '→'}[action]\n",
    "\n",
    "    graph[row * 12 + col] = action\n",
    "\n",
    "    graph = ''.join(graph)\n",
    "\n",
    "    for i in range(0, 4 * 12, 12):\n",
    "        print(graph[i:i + 12])\n",
    "\n",
    "from IPython import display\n",
    "import time\n",
    "\n",
    "\n",
    "def test():\n",
    "    #起点在0,0\n",
    "    row = 0\n",
    "    col = 0\n",
    "\n",
    "    #最多玩N步\n",
    "    for _ in range(200):\n",
    "\n",
    "        #选择一个动作\n",
    "        action = np.random.choice(np.arange(4), size=1, p=pi[row, col])[0]\n",
    "\n",
    "        #打印这个动作\n",
    "        display.clear_output(wait=True)\n",
    "        time.sleep(0.1)\n",
    "        show(row, col, action)\n",
    "\n",
    "        #执行动作\n",
    "        row, col, reward = move(row, col, action)\n",
    "\n",
    "        #获取当前状态，如果状态是终点或者掉陷阱则终止\n",
    "        if get_state(row, col) in ['trap', 'terminal']:\n",
    "            break\n",
    "\n",
    "\n",
    "test()"
   ]
  },
  {
   "cell_type": "code",
   "execution_count": 6,
   "metadata": {},
   "outputs": [
    {
     "name": "stdout",
     "output_type": "stream",
     "text": [
      "↓↓↓↓↓↓↓↓↓↓↓↓\n",
      "↓↓↓↓↓↓↓↓↓↓↓↓\n",
      "→→→→→→→→→→→↓\n",
      "↑↑↑↑↑↑↑↑↑↑↑↑\n"
     ]
    }
   ],
   "source": [
    "for row in range(4):\n",
    "    line = ''\n",
    "    for col in range(12):\n",
    "        action = pi[row, col].argmax()\n",
    "        action = {0:'↑', 1:'↓', 2:'←', 3:\"→\"}[action]\n",
    "        line += action\n",
    "    print(line)"
   ]
  },
  {
   "cell_type": "code",
   "execution_count": null,
   "metadata": {},
   "outputs": [],
   "source": [
    "\n"
   ]
  }
 ],
 "metadata": {
  "kernelspec": {
   "display_name": "pytorch",
   "language": "python",
   "name": "python3"
  },
  "language_info": {
   "codemirror_mode": {
    "name": "ipython",
    "version": 3
   },
   "file_extension": ".py",
   "mimetype": "text/x-python",
   "name": "python",
   "nbconvert_exporter": "python",
   "pygments_lexer": "ipython3",
   "version": "3.9.19"
  }
 },
 "nbformat": 4,
 "nbformat_minor": 2
}
